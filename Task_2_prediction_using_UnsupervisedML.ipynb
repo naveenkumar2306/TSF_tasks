{
  "nbformat": 4,
  "nbformat_minor": 0,
  "metadata": {
    "kernelspec": {
      "display_name": "Python 3",
      "language": "python",
      "name": "python3"
    },
    "language_info": {
      "codemirror_mode": {
        "name": "ipython",
        "version": 3
      },
      "file_extension": ".py",
      "mimetype": "text/x-python",
      "name": "python",
      "nbconvert_exporter": "python",
      "pygments_lexer": "ipython3",
      "version": "3.8.5"
    },
    "colab": {
      "name": "Task 2 -  prediction_using_UnsupervisedML.ipynb",
      "provenance": [],
      "include_colab_link": true
    }
  },
  "cells": [
    {
      "cell_type": "markdown",
      "metadata": {
        "id": "view-in-github",
        "colab_type": "text"
      },
      "source": [
        "<a href=\"https://colab.research.google.com/github/naveenkumar2306/TSF_tasks/blob/main/Task_2_prediction_using_UnsupervisedML.ipynb\" target=\"_parent\"><img src=\"https://colab.research.google.com/assets/colab-badge.svg\" alt=\"Open In Colab\"/></a>"
      ]
    },
    {
      "cell_type": "markdown",
      "metadata": {
        "id": "Ze94oaeLzHeT"
      },
      "source": [
        "# [NAVEENKUMAR N G](https://www.linkedin.com/in/naveenkumar-ng-25b9a0192)"
      ]
    },
    {
      "cell_type": "markdown",
      "metadata": {
        "id": "IcVdk0wUzHeW"
      },
      "source": [
        "### Task #2: Prediction using Unsupervised ML"
      ]
    },
    {
      "cell_type": "markdown",
      "metadata": {
        "id": "S_fjiNBCzHeY"
      },
      "source": [
        "### Collecting data"
      ]
    },
    {
      "cell_type": "code",
      "metadata": {
        "id": "u-YfwBt7zHea"
      },
      "source": [
        "# Import libraries and dataset\n",
        "import pandas as pd\n",
        "import matplotlib.pyplot as plt\n",
        "%matplotlib inline\n",
        "import seaborn as sns\n",
        "from sklearn.datasets import load_iris"
      ],
      "execution_count": null,
      "outputs": []
    },
    {
      "cell_type": "code",
      "metadata": {
        "id": "fMG_QaYtzHec"
      },
      "source": [
        "# Create dataframe \n",
        "iris = load_iris()\n",
        "df = pd.DataFrame(iris.data, columns=iris.feature_names)"
      ],
      "execution_count": null,
      "outputs": []
    },
    {
      "cell_type": "code",
      "metadata": {
        "id": "P2o1xx91zHee",
        "colab": {
          "base_uri": "https://localhost:8080/",
          "height": 473
        },
        "outputId": "56e75b8c-21b1-47d7-8241-e2666bf2f889"
      },
      "source": [
        "df"
      ],
      "execution_count": null,
      "outputs": [
        {
          "output_type": "execute_result",
          "data": {
            "text/html": [
              "<div>\n",
              "<style scoped>\n",
              "    .dataframe tbody tr th:only-of-type {\n",
              "        vertical-align: middle;\n",
              "    }\n",
              "\n",
              "    .dataframe tbody tr th {\n",
              "        vertical-align: top;\n",
              "    }\n",
              "\n",
              "    .dataframe thead th {\n",
              "        text-align: right;\n",
              "    }\n",
              "</style>\n",
              "<table border=\"1\" class=\"dataframe\">\n",
              "  <thead>\n",
              "    <tr style=\"text-align: right;\">\n",
              "      <th></th>\n",
              "      <th>sepal length (cm)</th>\n",
              "      <th>sepal width (cm)</th>\n",
              "      <th>petal length (cm)</th>\n",
              "      <th>petal width (cm)</th>\n",
              "    </tr>\n",
              "  </thead>\n",
              "  <tbody>\n",
              "    <tr>\n",
              "      <th>0</th>\n",
              "      <td>5.1</td>\n",
              "      <td>3.5</td>\n",
              "      <td>1.4</td>\n",
              "      <td>0.2</td>\n",
              "    </tr>\n",
              "    <tr>\n",
              "      <th>1</th>\n",
              "      <td>4.9</td>\n",
              "      <td>3.0</td>\n",
              "      <td>1.4</td>\n",
              "      <td>0.2</td>\n",
              "    </tr>\n",
              "    <tr>\n",
              "      <th>2</th>\n",
              "      <td>4.7</td>\n",
              "      <td>3.2</td>\n",
              "      <td>1.3</td>\n",
              "      <td>0.2</td>\n",
              "    </tr>\n",
              "    <tr>\n",
              "      <th>3</th>\n",
              "      <td>4.6</td>\n",
              "      <td>3.1</td>\n",
              "      <td>1.5</td>\n",
              "      <td>0.2</td>\n",
              "    </tr>\n",
              "    <tr>\n",
              "      <th>4</th>\n",
              "      <td>5.0</td>\n",
              "      <td>3.6</td>\n",
              "      <td>1.4</td>\n",
              "      <td>0.2</td>\n",
              "    </tr>\n",
              "    <tr>\n",
              "      <th>...</th>\n",
              "      <td>...</td>\n",
              "      <td>...</td>\n",
              "      <td>...</td>\n",
              "      <td>...</td>\n",
              "    </tr>\n",
              "    <tr>\n",
              "      <th>145</th>\n",
              "      <td>6.7</td>\n",
              "      <td>3.0</td>\n",
              "      <td>5.2</td>\n",
              "      <td>2.3</td>\n",
              "    </tr>\n",
              "    <tr>\n",
              "      <th>146</th>\n",
              "      <td>6.3</td>\n",
              "      <td>2.5</td>\n",
              "      <td>5.0</td>\n",
              "      <td>1.9</td>\n",
              "    </tr>\n",
              "    <tr>\n",
              "      <th>147</th>\n",
              "      <td>6.5</td>\n",
              "      <td>3.0</td>\n",
              "      <td>5.2</td>\n",
              "      <td>2.0</td>\n",
              "    </tr>\n",
              "    <tr>\n",
              "      <th>148</th>\n",
              "      <td>6.2</td>\n",
              "      <td>3.4</td>\n",
              "      <td>5.4</td>\n",
              "      <td>2.3</td>\n",
              "    </tr>\n",
              "    <tr>\n",
              "      <th>149</th>\n",
              "      <td>5.9</td>\n",
              "      <td>3.0</td>\n",
              "      <td>5.1</td>\n",
              "      <td>1.8</td>\n",
              "    </tr>\n",
              "  </tbody>\n",
              "</table>\n",
              "<p>150 rows × 4 columns</p>\n",
              "</div>"
            ],
            "text/plain": [
              "     sepal length (cm)  sepal width (cm)  petal length (cm)  petal width (cm)\n",
              "0                  5.1               3.5                1.4               0.2\n",
              "1                  4.9               3.0                1.4               0.2\n",
              "2                  4.7               3.2                1.3               0.2\n",
              "3                  4.6               3.1                1.5               0.2\n",
              "4                  5.0               3.6                1.4               0.2\n",
              "..                 ...               ...                ...               ...\n",
              "145                6.7               3.0                5.2               2.3\n",
              "146                6.3               2.5                5.0               1.9\n",
              "147                6.5               3.0                5.2               2.0\n",
              "148                6.2               3.4                5.4               2.3\n",
              "149                5.9               3.0                5.1               1.8\n",
              "\n",
              "[150 rows x 4 columns]"
            ]
          },
          "metadata": {
            "tags": []
          },
          "execution_count": 3
        }
      ]
    },
    {
      "cell_type": "code",
      "metadata": {
        "id": "oCvcubKRzHeg",
        "colab": {
          "base_uri": "https://localhost:8080/"
        },
        "outputId": "e0f04227-eef1-4adc-ef10-f3a58036ccae"
      },
      "source": [
        "# To see target \n",
        "iris.target"
      ],
      "execution_count": null,
      "outputs": [
        {
          "output_type": "execute_result",
          "data": {
            "text/plain": [
              "array([0, 0, 0, 0, 0, 0, 0, 0, 0, 0, 0, 0, 0, 0, 0, 0, 0, 0, 0, 0, 0, 0,\n",
              "       0, 0, 0, 0, 0, 0, 0, 0, 0, 0, 0, 0, 0, 0, 0, 0, 0, 0, 0, 0, 0, 0,\n",
              "       0, 0, 0, 0, 0, 0, 1, 1, 1, 1, 1, 1, 1, 1, 1, 1, 1, 1, 1, 1, 1, 1,\n",
              "       1, 1, 1, 1, 1, 1, 1, 1, 1, 1, 1, 1, 1, 1, 1, 1, 1, 1, 1, 1, 1, 1,\n",
              "       1, 1, 1, 1, 1, 1, 1, 1, 1, 1, 1, 1, 2, 2, 2, 2, 2, 2, 2, 2, 2, 2,\n",
              "       2, 2, 2, 2, 2, 2, 2, 2, 2, 2, 2, 2, 2, 2, 2, 2, 2, 2, 2, 2, 2, 2,\n",
              "       2, 2, 2, 2, 2, 2, 2, 2, 2, 2, 2, 2, 2, 2, 2, 2, 2, 2])"
            ]
          },
          "metadata": {
            "tags": []
          },
          "execution_count": 4
        }
      ]
    },
    {
      "cell_type": "markdown",
      "metadata": {
        "id": "zqWA_UPPzHej"
      },
      "source": [
        "### Data Analysing"
      ]
    },
    {
      "cell_type": "code",
      "metadata": {
        "id": "Bgib0JvgzHel",
        "colab": {
          "base_uri": "https://localhost:8080/"
        },
        "outputId": "05ec4368-b51b-4686-ee10-f8f1f7cf3999"
      },
      "source": [
        "df.shape"
      ],
      "execution_count": null,
      "outputs": [
        {
          "output_type": "execute_result",
          "data": {
            "text/plain": [
              "(150, 4)"
            ]
          },
          "metadata": {
            "tags": []
          },
          "execution_count": 5
        }
      ]
    },
    {
      "cell_type": "markdown",
      "metadata": {
        "id": "P0Xb-fXZzHen"
      },
      "source": [
        "There are 150 rows and 4 columns in the data"
      ]
    },
    {
      "cell_type": "code",
      "metadata": {
        "id": "OfM2CWs7zHeo",
        "colab": {
          "base_uri": "https://localhost:8080/"
        },
        "outputId": "da7fbd51-5df5-4b83-efe0-ff68dd3ae568"
      },
      "source": [
        "df.info()"
      ],
      "execution_count": null,
      "outputs": [
        {
          "output_type": "stream",
          "text": [
            "<class 'pandas.core.frame.DataFrame'>\n",
            "RangeIndex: 150 entries, 0 to 149\n",
            "Data columns (total 4 columns):\n",
            " #   Column             Non-Null Count  Dtype  \n",
            "---  ------             --------------  -----  \n",
            " 0   sepal length (cm)  150 non-null    float64\n",
            " 1   sepal width (cm)   150 non-null    float64\n",
            " 2   petal length (cm)  150 non-null    float64\n",
            " 3   petal width (cm)   150 non-null    float64\n",
            "dtypes: float64(4)\n",
            "memory usage: 4.8 KB\n"
          ],
          "name": "stdout"
        }
      ]
    },
    {
      "cell_type": "code",
      "metadata": {
        "id": "U2GQ87qhzHeq"
      },
      "source": [
        "# Add species type(target) to our dataframe\n",
        "df['species'] = iris.target"
      ],
      "execution_count": null,
      "outputs": []
    },
    {
      "cell_type": "code",
      "metadata": {
        "id": "rF0OVRhYzHer",
        "colab": {
          "base_uri": "https://localhost:8080/",
          "height": 196
        },
        "outputId": "f9d3dcfc-07dc-44dd-e6be-f279286204ed"
      },
      "source": [
        "df.head(3)"
      ],
      "execution_count": null,
      "outputs": [
        {
          "output_type": "execute_result",
          "data": {
            "text/html": [
              "<div>\n",
              "<style scoped>\n",
              "    .dataframe tbody tr th:only-of-type {\n",
              "        vertical-align: middle;\n",
              "    }\n",
              "\n",
              "    .dataframe tbody tr th {\n",
              "        vertical-align: top;\n",
              "    }\n",
              "\n",
              "    .dataframe thead th {\n",
              "        text-align: right;\n",
              "    }\n",
              "</style>\n",
              "<table border=\"1\" class=\"dataframe\">\n",
              "  <thead>\n",
              "    <tr style=\"text-align: right;\">\n",
              "      <th></th>\n",
              "      <th>sepal length (cm)</th>\n",
              "      <th>sepal width (cm)</th>\n",
              "      <th>petal length (cm)</th>\n",
              "      <th>petal width (cm)</th>\n",
              "      <th>species</th>\n",
              "    </tr>\n",
              "  </thead>\n",
              "  <tbody>\n",
              "    <tr>\n",
              "      <th>0</th>\n",
              "      <td>5.1</td>\n",
              "      <td>3.5</td>\n",
              "      <td>1.4</td>\n",
              "      <td>0.2</td>\n",
              "      <td>0</td>\n",
              "    </tr>\n",
              "    <tr>\n",
              "      <th>1</th>\n",
              "      <td>4.9</td>\n",
              "      <td>3.0</td>\n",
              "      <td>1.4</td>\n",
              "      <td>0.2</td>\n",
              "      <td>0</td>\n",
              "    </tr>\n",
              "    <tr>\n",
              "      <th>2</th>\n",
              "      <td>4.7</td>\n",
              "      <td>3.2</td>\n",
              "      <td>1.3</td>\n",
              "      <td>0.2</td>\n",
              "      <td>0</td>\n",
              "    </tr>\n",
              "  </tbody>\n",
              "</table>\n",
              "</div>"
            ],
            "text/plain": [
              "   sepal length (cm)  sepal width (cm)  ...  petal width (cm)  species\n",
              "0                5.1               3.5  ...               0.2        0\n",
              "1                4.9               3.0  ...               0.2        0\n",
              "2                4.7               3.2  ...               0.2        0\n",
              "\n",
              "[3 rows x 5 columns]"
            ]
          },
          "metadata": {
            "tags": []
          },
          "execution_count": 8
        }
      ]
    },
    {
      "cell_type": "code",
      "metadata": {
        "id": "XctEG3WUzHes",
        "colab": {
          "base_uri": "https://localhost:8080/"
        },
        "outputId": "3f8a8b70-3f18-448d-ff6b-4cf5011c8eea"
      },
      "source": [
        "# To see the target names\n",
        "target = iris.target_names\n",
        "target"
      ],
      "execution_count": null,
      "outputs": [
        {
          "output_type": "execute_result",
          "data": {
            "text/plain": [
              "array(['setosa', 'versicolor', 'virginica'], dtype='<U10')"
            ]
          },
          "metadata": {
            "tags": []
          },
          "execution_count": 9
        }
      ]
    },
    {
      "cell_type": "code",
      "metadata": {
        "id": "kVv5ShqvzHet",
        "colab": {
          "base_uri": "https://localhost:8080/",
          "height": 258
        },
        "outputId": "1a354106-a908-4aa9-927f-b363e5bc3164"
      },
      "source": [
        "# To see species name on dataframe\n",
        "df['species name'] = df['species'].apply(lambda x: target[x])\n",
        "df.head()"
      ],
      "execution_count": null,
      "outputs": [
        {
          "output_type": "execute_result",
          "data": {
            "text/html": [
              "<div>\n",
              "<style scoped>\n",
              "    .dataframe tbody tr th:only-of-type {\n",
              "        vertical-align: middle;\n",
              "    }\n",
              "\n",
              "    .dataframe tbody tr th {\n",
              "        vertical-align: top;\n",
              "    }\n",
              "\n",
              "    .dataframe thead th {\n",
              "        text-align: right;\n",
              "    }\n",
              "</style>\n",
              "<table border=\"1\" class=\"dataframe\">\n",
              "  <thead>\n",
              "    <tr style=\"text-align: right;\">\n",
              "      <th></th>\n",
              "      <th>sepal length (cm)</th>\n",
              "      <th>sepal width (cm)</th>\n",
              "      <th>petal length (cm)</th>\n",
              "      <th>petal width (cm)</th>\n",
              "      <th>species</th>\n",
              "      <th>species name</th>\n",
              "    </tr>\n",
              "  </thead>\n",
              "  <tbody>\n",
              "    <tr>\n",
              "      <th>0</th>\n",
              "      <td>5.1</td>\n",
              "      <td>3.5</td>\n",
              "      <td>1.4</td>\n",
              "      <td>0.2</td>\n",
              "      <td>0</td>\n",
              "      <td>setosa</td>\n",
              "    </tr>\n",
              "    <tr>\n",
              "      <th>1</th>\n",
              "      <td>4.9</td>\n",
              "      <td>3.0</td>\n",
              "      <td>1.4</td>\n",
              "      <td>0.2</td>\n",
              "      <td>0</td>\n",
              "      <td>setosa</td>\n",
              "    </tr>\n",
              "    <tr>\n",
              "      <th>2</th>\n",
              "      <td>4.7</td>\n",
              "      <td>3.2</td>\n",
              "      <td>1.3</td>\n",
              "      <td>0.2</td>\n",
              "      <td>0</td>\n",
              "      <td>setosa</td>\n",
              "    </tr>\n",
              "    <tr>\n",
              "      <th>3</th>\n",
              "      <td>4.6</td>\n",
              "      <td>3.1</td>\n",
              "      <td>1.5</td>\n",
              "      <td>0.2</td>\n",
              "      <td>0</td>\n",
              "      <td>setosa</td>\n",
              "    </tr>\n",
              "    <tr>\n",
              "      <th>4</th>\n",
              "      <td>5.0</td>\n",
              "      <td>3.6</td>\n",
              "      <td>1.4</td>\n",
              "      <td>0.2</td>\n",
              "      <td>0</td>\n",
              "      <td>setosa</td>\n",
              "    </tr>\n",
              "  </tbody>\n",
              "</table>\n",
              "</div>"
            ],
            "text/plain": [
              "   sepal length (cm)  sepal width (cm)  ...  species  species name\n",
              "0                5.1               3.5  ...        0        setosa\n",
              "1                4.9               3.0  ...        0        setosa\n",
              "2                4.7               3.2  ...        0        setosa\n",
              "3                4.6               3.1  ...        0        setosa\n",
              "4                5.0               3.6  ...        0        setosa\n",
              "\n",
              "[5 rows x 6 columns]"
            ]
          },
          "metadata": {
            "tags": []
          },
          "execution_count": 10
        }
      ]
    },
    {
      "cell_type": "code",
      "metadata": {
        "id": "RoZh0HeMzHev",
        "colab": {
          "base_uri": "https://localhost:8080/"
        },
        "outputId": "44784c8d-3474-4c21-b0f4-009c7a606690"
      },
      "source": [
        "# To see number of species on each type\n",
        "df['species name'].value_counts()"
      ],
      "execution_count": null,
      "outputs": [
        {
          "output_type": "execute_result",
          "data": {
            "text/plain": [
              "virginica     50\n",
              "setosa        50\n",
              "versicolor    50\n",
              "Name: species name, dtype: int64"
            ]
          },
          "metadata": {
            "tags": []
          },
          "execution_count": 11
        }
      ]
    },
    {
      "cell_type": "markdown",
      "metadata": {
        "id": "uB0L7JPWzHew"
      },
      "source": [
        "There are 3 types of species. Each species contains 50 data."
      ]
    },
    {
      "cell_type": "markdown",
      "metadata": {
        "id": "jRtB0-EUzHex"
      },
      "source": [
        "#### To know more about our data, let's plot a scatter plot for both sepal and petal values to all types of species"
      ]
    },
    {
      "cell_type": "code",
      "metadata": {
        "id": "ycdN56g1zHex",
        "colab": {
          "base_uri": "https://localhost:8080/",
          "height": 203
        },
        "outputId": "b5440af6-7f90-4f9a-f4e8-061b704ee562"
      },
      "source": [
        "# Based on sepal values\n",
        "plt.rcParams['figure.figsize'] = (12, 8)\n",
        "fig, ax = plt.subplots()\n",
        "scatter = ax.scatter(df['sepal length (cm)'], df['sepal width (cm)'], c = df['species'])\n",
        "# produce a legend with the unique colors from the scatter\n",
        "legend = ax.legend(*scatter.legend_elements(),loc=\"upper right\", title=\"Species\")\n",
        "plt.xlabel('sepal length')\n",
        "plt.ylabel('sepal width')\n",
        "plt.title('Sepal values', fontsize = 12)\n",
        "ax.add_artist(legend)\n",
        "plt.show()"
      ],
      "execution_count": null,
      "outputs": [
        {
          "output_type": "display_data",
          "data": {
            "image/png": "[encoded data removed]",
            "text/plain": [
              "<Figure size 864x576 with 1 Axes>"
            ]
          },
          "metadata": {
            "tags": [],
            "needs_background": "light"
          }
        }
      ]
    },
    {
      "cell_type": "markdown",
      "metadata": {
        "id": "M9Fw4X_WzHez"
      },
      "source": [
        "Species1 & Species2 have more number of same size of sepal length and sepal width. That's why they mixed when we plot their sepal values on scatter plot"
      ]
    },
    {
      "cell_type": "markdown",
      "metadata": {
        "id": "YS8y1XkgzHe0"
      },
      "source": [
        "---"
      ]
    },
    {
      "cell_type": "code",
      "metadata": {
        "id": "vdGNwoD9zHe0",
        "colab": {
          "base_uri": "https://localhost:8080/",
          "height": 203
        },
        "outputId": "874770c7-9879-4beb-d14f-165608f74815"
      },
      "source": [
        "# Based on petal values\n",
        "plt.rcParams['figure.figsize'] = (12, 8)\n",
        "fig, ax = plt.subplots()\n",
        "scatter = ax.scatter(df['petal length (cm)'], df['petal width (cm)'], c = df['species'])\n",
        "# produce a legend with the unique colors from the scatter\n",
        "legend = ax.legend(*scatter.legend_elements(),loc=\"upper left\", title=\"Species\")\n",
        "plt.xlabel('petal length')\n",
        "plt.ylabel('petal width')\n",
        "plt.title('Petal values', fontsize = 12)\n",
        "ax.add_artist(legend)\n",
        "plt.show()"
      ],
      "execution_count": null,
      "outputs": [
        {
          "output_type": "display_data",
          "data": {
            "image/png": "[encoded data removed]",
            "text/plain": [
              "<Figure size 864x576 with 1 Axes>"
            ]
          },
          "metadata": {
            "tags": [],
            "needs_background": "light"
          }
        }
      ]
    },
    {
      "cell_type": "markdown",
      "metadata": {
        "id": "Yhgy25NrzHe2"
      },
      "source": [
        "The above figure infers that each type of species has different petal size"
      ]
    },
    {
      "cell_type": "markdown",
      "metadata": {
        "id": "NowoaAXAzHe2"
      },
      "source": [
        "<div class=\"alert alert-block alert-info\" style=\"margin-top: 20px\">\n",
        "<h4>From above two figures, we can say second one(Petal values) easy to classify.</h4>\n",
        "<h4>So We 'll go with petal values for classification</h4>\n",
        "</div>"
      ]
    },
    {
      "cell_type": "markdown",
      "metadata": {
        "id": "WmN6FW47zHe3"
      },
      "source": [
        "---"
      ]
    },
    {
      "cell_type": "code",
      "metadata": {
        "id": "gWFZfxy6zHe4",
        "colab": {
          "base_uri": "https://localhost:8080/",
          "height": 198
        },
        "outputId": "afc35118-9ec8-4cc5-bf47-0b9260aca41d"
      },
      "source": [
        "# To see all the values based on species in boxplot \n",
        "f, axes = plt.subplots(2, 2)\n",
        "sns.boxplot(  y=\"sepal length (cm)\", x= \"species name\", data=df, ax=axes[0, 0])\n",
        "sns.boxplot(  y=\"sepal width (cm)\", x= \"species name\", data=df, ax=axes[0, 1])\n",
        "sns.boxplot(  y=\"petal length (cm)\", x= \"species name\", data=df,  ax=axes[1, 0])\n",
        "sns.boxplot(  y=\"petal width (cm)\", x= \"species name\", data=df, ax=axes[1, 1])\n",
        "plt.show()"
      ],
      "execution_count": null,
      "outputs": [
        {
          "output_type": "display_data",
          "data": {
            "image/png": "[encoded data removed]",
            "text/plain": [
              "<Figure size 864x576 with 4 Axes>"
            ]
          },
          "metadata": {
            "tags": [],
            "needs_background": "light"
          }
        }
      ]
    },
    {
      "cell_type": "markdown",
      "metadata": {
        "id": "lhbz1-eQzHe5"
      },
      "source": [
        "The above figure infers that <br>**setosa < versicolor < virginica** in all values(sepal length, petal length, petal width) **except sepal width**.<br>In size of sepal width setosa is higher than versicolor and virginica"
      ]
    },
    {
      "cell_type": "markdown",
      "metadata": {
        "id": "rASpM8nyzHe5"
      },
      "source": [
        "### Data Wrangling"
      ]
    },
    {
      "cell_type": "code",
      "metadata": {
        "id": "NmakXIx5zHe6",
        "colab": {
          "base_uri": "https://localhost:8080/"
        },
        "outputId": "0d801be4-ee4c-40ab-d81e-413847808327"
      },
      "source": [
        "# To see null values\n",
        "df.isnull().sum()"
      ],
      "execution_count": null,
      "outputs": [
        {
          "output_type": "execute_result",
          "data": {
            "text/plain": [
              "sepal length (cm)    0\n",
              "sepal width (cm)     0\n",
              "petal length (cm)    0\n",
              "petal width (cm)     0\n",
              "species              0\n",
              "species name         0\n",
              "dtype: int64"
            ]
          },
          "metadata": {
            "tags": []
          },
          "execution_count": 15
        }
      ]
    },
    {
      "cell_type": "code",
      "metadata": {
        "id": "nWi0qAtNzHe7",
        "colab": {
          "base_uri": "https://localhost:8080/",
          "height": 302
        },
        "outputId": "eb4c777a-23d3-42e8-83ab-4a2f7f81f0f9"
      },
      "source": [
        "# To see visually\n",
        "plt.figure(figsize = (8, 6))\n",
        "sns.heatmap(df.isnull(), cmap = 'viridis')"
      ],
      "execution_count": null,
      "outputs": [
        {
          "output_type": "execute_result",
          "data": {
            "text/plain": [
              "<matplotlib.axes._subplots.AxesSubplot at 0x7f247f35fad0>"
            ]
          },
          "metadata": {
            "tags": []
          },
          "execution_count": 16
        },
        {
          "output_type": "display_data",
          "data": {
            "image/png": "[encoded data removed]",
            "text/plain": [
              "<Figure size 576x432 with 2 Axes>"
            ]
          },
          "metadata": {
            "tags": [],
            "needs_background": "light"
          }
        }
      ]
    },
    {
      "cell_type": "markdown",
      "metadata": {
        "id": "YNFeFanXzHe7"
      },
      "source": [
        "There is no **null values** in the data."
      ]
    },
    {
      "cell_type": "markdown",
      "metadata": {
        "id": "0JNFJdlvzHe8"
      },
      "source": [
        "### Choosing The Right Number Of Clusters"
      ]
    },
    {
      "cell_type": "code",
      "metadata": {
        "id": "cycdrIcjzHe8"
      },
      "source": [
        "# Import library\n",
        "from sklearn.cluster import KMeans"
      ],
      "execution_count": null,
      "outputs": []
    },
    {
      "cell_type": "markdown",
      "metadata": {
        "id": "_H3IgcrnzHe8"
      },
      "source": [
        "To know the number of cluster:<br>We have to **calculate: Within-Cluster-Sum-of-Squares(WCSS)**. "
      ]
    },
    {
      "cell_type": "markdown",
      "metadata": {
        "id": "q-Kr87XgzHe9"
      },
      "source": [
        "### WCSS = $\\sum_{C_k}^{C_n}(\\sum_{d_i in C_i}^{d_m} distance(d_i, c_k)^{2}$)"
      ]
    },
    {
      "cell_type": "markdown",
      "metadata": {
        "id": "fnvNhWSGzHe9"
      },
      "source": [
        "c - cluster centroid<br>d - datapoint in each cluster"
      ]
    },
    {
      "cell_type": "code",
      "metadata": {
        "id": "FXmdnjhYzHe-"
      },
      "source": [
        "x = df.iloc[:, [0, 1, 2, 3]].values"
      ],
      "execution_count": null,
      "outputs": []
    },
    {
      "cell_type": "code",
      "metadata": {
        "id": "1LRlrrInzHe-"
      },
      "source": [
        "wcss = []\n",
        "k_range = range(1, 11)\n",
        "for i in k_range:\n",
        "    km = KMeans(n_clusters=i)\n",
        "    km.fit(x)\n",
        "    wcss.append(km.inertia_)"
      ],
      "execution_count": null,
      "outputs": []
    },
    {
      "cell_type": "markdown",
      "metadata": {
        "id": "fvFC5QX7zHe_"
      },
      "source": [
        "**elbow method** is used to determine the number of clusters in a data set"
      ]
    },
    {
      "cell_type": "code",
      "metadata": {
        "id": "hpSbRK7mzHe_",
        "outputId": "a1e12a24-8467-4b40-d4ec-98f901ea7996"
      },
      "source": [
        "# plot the wcss values(elbow method)\n",
        "plt.plot(k_range, wcss, c = 'red')\n",
        "plt.xlabel('Number of clusters')\n",
        "plt.ylabel('wcss')\n",
        "plt.title('Elbow method', fontsize = 13)\n",
        "plt.show()"
      ],
      "execution_count": null,
      "outputs": [
        {
          "output_type": "display_data",
          "data": {
            "image/png": "[encoded data removed]",
            "text/plain": [
              "<Figure size 864x576 with 1 Axes>"
            ]
          },
          "metadata": {
            "tags": [],
            "needs_background": "light"
          }
        }
      ]
    },
    {
      "cell_type": "markdown",
      "metadata": {
        "id": "xWuHoWOezHfA"
      },
      "source": [
        "The above figure infers that the elbow shape formed at 3 so **k = 3**"
      ]
    },
    {
      "cell_type": "markdown",
      "metadata": {
        "id": "diS48yY6zHfA"
      },
      "source": [
        "### Implement K-Means clustering "
      ]
    },
    {
      "cell_type": "code",
      "metadata": {
        "id": "n6zYV9bLzHfB",
        "outputId": "c2a574d6-32b3-4f7f-c152-14ede765fd00"
      },
      "source": [
        "# Apply kmeans to data\n",
        "km  = KMeans(n_clusters=3)\n",
        "pred = km.fit_predict(x)\n",
        "pred"
      ],
      "execution_count": null,
      "outputs": [
        {
          "output_type": "execute_result",
          "data": {
            "text/plain": [
              "array([1, 1, 1, 1, 1, 1, 1, 1, 1, 1, 1, 1, 1, 1, 1, 1, 1, 1, 1, 1, 1, 1,\n",
              "       1, 1, 1, 1, 1, 1, 1, 1, 1, 1, 1, 1, 1, 1, 1, 1, 1, 1, 1, 1, 1, 1,\n",
              "       1, 1, 1, 1, 1, 1, 2, 2, 0, 2, 2, 2, 2, 2, 2, 2, 2, 2, 2, 2, 2, 2,\n",
              "       2, 2, 2, 2, 2, 2, 2, 2, 2, 2, 2, 0, 2, 2, 2, 2, 2, 2, 2, 2, 2, 2,\n",
              "       2, 2, 2, 2, 2, 2, 2, 2, 2, 2, 2, 2, 0, 2, 0, 0, 0, 0, 2, 0, 0, 0,\n",
              "       0, 0, 0, 2, 2, 0, 0, 0, 0, 2, 0, 2, 0, 2, 0, 0, 2, 2, 0, 0, 0, 0,\n",
              "       0, 2, 0, 0, 0, 0, 2, 0, 0, 0, 2, 0, 0, 0, 2, 0, 0, 2])"
            ]
          },
          "metadata": {
            "tags": []
          },
          "execution_count": 21
        }
      ]
    },
    {
      "cell_type": "code",
      "metadata": {
        "id": "f0rK6qKnzHfB",
        "outputId": "3f225597-dd7b-4c36-b2cf-79e375755188"
      },
      "source": [
        "# To see cluster center\n",
        "km.cluster_centers_"
      ],
      "execution_count": null,
      "outputs": [
        {
          "output_type": "execute_result",
          "data": {
            "text/plain": [
              "array([[6.85      , 3.07368421, 5.74210526, 2.07105263],\n",
              "       [5.006     , 3.428     , 1.462     , 0.246     ],\n",
              "       [5.9016129 , 2.7483871 , 4.39354839, 1.43387097]])"
            ]
          },
          "metadata": {
            "tags": []
          },
          "execution_count": 22
        }
      ]
    },
    {
      "cell_type": "markdown",
      "metadata": {
        "id": "AeEATAT6zHfC"
      },
      "source": [
        "As we mentioned above we use **petal values(x[2, 3]) for classification**"
      ]
    },
    {
      "cell_type": "code",
      "metadata": {
        "id": "y5c1GKVXzHfC",
        "outputId": "c2a53a33-4ed7-42f9-9470-80050f5eadcd"
      },
      "source": [
        "# Visualising the clusters - On the second two columns\n",
        "plt.scatter(x[pred == 0, 2], x[pred == 0, 3], c = 'red', label = 'setosa')\n",
        "plt.scatter(x[pred == 1, 2], x[pred == 1, 3], c = 'blue', label = 'versicolour')\n",
        "plt.scatter(x[pred == 2, 2], x[pred == 2, 3], c = 'orange', label = 'virginica')\n",
        "# Plotting the centroids of the clusters\n",
        "plt.scatter(km.cluster_centers_[:, 2], km.cluster_centers_[:,3], s = 100, c = 'black', marker = '*', label = 'Centroids')\n",
        "plt.legend()\n",
        "plt.show()"
      ],
      "execution_count": null,
      "outputs": [
        {
          "output_type": "display_data",
          "data": {
            "image/png": "[encoded data removed]",
            "text/plain": [
              "<Figure size 864x576 with 1 Axes>"
            ]
          },
          "metadata": {
            "tags": [],
            "needs_background": "light"
          }
        }
      ]
    }
  ]
}